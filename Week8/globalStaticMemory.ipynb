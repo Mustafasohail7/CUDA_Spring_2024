{
  "nbformat": 4,
  "nbformat_minor": 0,
  "metadata": {
    "colab": {
      "provenance": [],
      "include_colab_link": true
    },
    "kernelspec": {
      "name": "python3",
      "display_name": "Python 3"
    },
    "language_info": {
      "name": "python"
    },
    "accelerator": "GPU"
  },
  "cells": [
    {
      "cell_type": "markdown",
      "metadata": {
        "id": "view-in-github",
        "colab_type": "text"
      },
      "source": [
        "<a href=\"https://colab.research.google.com/github/Mustafasohail7/CUDA_Spring_2024/blob/main/Week8/globalStaticMemory.ipynb\" target=\"_parent\"><img src=\"https://colab.research.google.com/assets/colab-badge.svg\" alt=\"Open In Colab\"/></a>"
      ]
    },
    {
      "cell_type": "code",
      "execution_count": 2,
      "metadata": {
        "colab": {
          "base_uri": "https://localhost:8080/"
        },
        "id": "kBUHmmqQHOS-",
        "outputId": "881d8cd9-2858-4d11-9669-d83fa8b613d8"
      },
      "outputs": [
        {
          "output_type": "stream",
          "name": "stdout",
          "text": [
            "Collecting git+https://github.com/andreinechaev/nvcc4jupyter.git\n",
            "  Cloning https://github.com/andreinechaev/nvcc4jupyter.git to /tmp/pip-req-build-_ma24c56\n",
            "  Running command git clone --filter=blob:none --quiet https://github.com/andreinechaev/nvcc4jupyter.git /tmp/pip-req-build-_ma24c56\n",
            "  Resolved https://github.com/andreinechaev/nvcc4jupyter.git to commit 781ff5b76ba6c4c2d80dcbbec9983e147613cc71\n",
            "  Installing build dependencies ... \u001b[?25l\u001b[?25hdone\n",
            "  Getting requirements to build wheel ... \u001b[?25l\u001b[?25hdone\n",
            "  Preparing metadata (pyproject.toml) ... \u001b[?25l\u001b[?25hdone\n",
            "Building wheels for collected packages: nvcc4jupyter\n",
            "  Building wheel for nvcc4jupyter (pyproject.toml) ... \u001b[?25l\u001b[?25hdone\n",
            "  Created wheel for nvcc4jupyter: filename=nvcc4jupyter-1.1.0-py3-none-any.whl size=8011 sha256=e2b2acbb79d726227ace2ffdeb18b901e4debb9cf9419b13a35a389a655ee4ac\n",
            "  Stored in directory: /tmp/pip-ephem-wheel-cache-2g50gpgk/wheels/a8/b9/18/23f8ef71ceb0f63297dd1903aedd067e6243a68ea756d6feea\n",
            "Successfully built nvcc4jupyter\n",
            "Installing collected packages: nvcc4jupyter\n",
            "Successfully installed nvcc4jupyter-1.1.0\n",
            "Source files will be saved in \"/tmp/tmp5lhjvmz3\".\n"
          ]
        }
      ],
      "source": [
        "!pip install git+https://github.com/andreinechaev/nvcc4jupyter.git\n",
        "%load_ext nvcc4jupyter"
      ]
    },
    {
      "cell_type": "code",
      "source": [
        "%%cuda\n",
        "#include <stdio.h>\n",
        "\n",
        "__device__ float devData;\n",
        "\n",
        "__global__ void checkGlobalVariable() {\n",
        "   // display the original value\n",
        "   printf(\"Device: the value of the global variable is %f\\n\",devData);\n",
        "\n",
        "   // alter the value\n",
        "   devData *=100.0f;\n",
        "}\n",
        "\n",
        "__global__ void squareGlobalVariable() {\n",
        "    printf(\"Device: the value of the global variable is %f\\n\",devData);\n",
        "\n",
        "    devData = devData*devData;\n",
        "}\n",
        "\n",
        "int main(void) {\n",
        "   // initialize the global variable\n",
        "   float value = 3.14f;\n",
        "   cudaMemcpyToSymbol(devData, &value, sizeof(float));\n",
        "   printf(\"Host: copied %f to the global variable\\n\", value);\n",
        "   // invoke the kernel\n",
        "   checkGlobalVariable <<<1, 1>>>();\n",
        "   // copy the global variable back to the host\n",
        "   cudaMemcpyFromSymbol(&value, devData, sizeof(float));\n",
        "   printf(\"Host: the value changed by the kernel to %f\\n\", value);\n",
        "\n",
        "   squareGlobalVariable <<<1, 1>>>();\n",
        "   // copy the global variable back to the host\n",
        "   cudaMemcpyFromSymbol(&value, devData, sizeof(float));\n",
        "   printf(\"Host: the value changed by the kernel to %f\\n\", value);\n",
        "   cudaDeviceReset();\n",
        "   return 0;\n",
        "}"
      ],
      "metadata": {
        "colab": {
          "base_uri": "https://localhost:8080/"
        },
        "id": "P71PB1boHhgz",
        "outputId": "72d7f42f-4e68-4801-e10a-e13867c2791b"
      },
      "execution_count": 3,
      "outputs": [
        {
          "output_type": "stream",
          "name": "stdout",
          "text": [
            "Host: copied 3.140000 to the global variable\n",
            "Device: the value of the global variable is 3.140000\n",
            "Host: the value changed by the kernel to 314.000000\n",
            "Device: the value of the global variable is 314.000000\n",
            "Host: the value changed by the kernel to 98596.000000\n",
            "\n"
          ]
        }
      ]
    }
  ]
}